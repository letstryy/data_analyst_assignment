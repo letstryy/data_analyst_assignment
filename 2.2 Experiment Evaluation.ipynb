{
 "cells": [
  {
   "cell_type": "code",
   "execution_count": 1,
   "id": "896e0756",
   "metadata": {},
   "outputs": [],
   "source": [
    "import pandas as pd\n",
    "import numpy as np\n",
    "from statsmodels.stats.proportion import proportions_ztest\n",
    "from scipy.stats import chi2_contingency\n",
    "import warnings\n",
    "warnings.filterwarnings(\"ignore\")"
   ]
  },
  {
   "cell_type": "code",
   "execution_count": 2,
   "id": "adba5f2f",
   "metadata": {},
   "outputs": [
    {
     "data": {
      "text/html": [
       "<div>\n",
       "<style scoped>\n",
       "    .dataframe tbody tr th:only-of-type {\n",
       "        vertical-align: middle;\n",
       "    }\n",
       "\n",
       "    .dataframe tbody tr th {\n",
       "        vertical-align: top;\n",
       "    }\n",
       "\n",
       "    .dataframe thead th {\n",
       "        text-align: right;\n",
       "    }\n",
       "</style>\n",
       "<table border=\"1\" class=\"dataframe\">\n",
       "  <thead>\n",
       "    <tr style=\"text-align: right;\">\n",
       "      <th></th>\n",
       "      <th>Reminder Frequency</th>\n",
       "      <th>Voucher Discounts</th>\n",
       "      <th>Target Users</th>\n",
       "      <th>Redeemed Users</th>\n",
       "    </tr>\n",
       "  </thead>\n",
       "  <tbody>\n",
       "    <tr>\n",
       "      <th>0</th>\n",
       "      <td>Non-Frequent</td>\n",
       "      <td>10K</td>\n",
       "      <td>3043</td>\n",
       "      <td>167</td>\n",
       "    </tr>\n",
       "    <tr>\n",
       "      <th>1</th>\n",
       "      <td>Frequent</td>\n",
       "      <td>10K</td>\n",
       "      <td>3141</td>\n",
       "      <td>204</td>\n",
       "    </tr>\n",
       "    <tr>\n",
       "      <th>2</th>\n",
       "      <td>Non-Frequent</td>\n",
       "      <td>15K</td>\n",
       "      <td>3219</td>\n",
       "      <td>204</td>\n",
       "    </tr>\n",
       "    <tr>\n",
       "      <th>3</th>\n",
       "      <td>Frequent</td>\n",
       "      <td>15K</td>\n",
       "      <td>2928</td>\n",
       "      <td>266</td>\n",
       "    </tr>\n",
       "    <tr>\n",
       "      <th>4</th>\n",
       "      <td>Non-Frequent</td>\n",
       "      <td>20K</td>\n",
       "      <td>2823</td>\n",
       "      <td>299</td>\n",
       "    </tr>\n",
       "  </tbody>\n",
       "</table>\n",
       "</div>"
      ],
      "text/plain": [
       "  Reminder Frequency Voucher Discounts  Target Users  Redeemed Users\n",
       "0       Non-Frequent               10K          3043             167\n",
       "1           Frequent               10K          3141             204\n",
       "2       Non-Frequent               15K          3219             204\n",
       "3           Frequent               15K          2928             266\n",
       "4       Non-Frequent               20K          2823             299"
      ]
     },
     "execution_count": 2,
     "metadata": {},
     "output_type": "execute_result"
    }
   ],
   "source": [
    "df = pd.read_csv('data.csv')\n",
    "df.head()"
   ]
  },
  {
   "cell_type": "code",
   "execution_count": 3,
   "id": "2b9631eb",
   "metadata": {},
   "outputs": [
    {
     "data": {
      "text/html": [
       "<div>\n",
       "<style scoped>\n",
       "    .dataframe tbody tr th:only-of-type {\n",
       "        vertical-align: middle;\n",
       "    }\n",
       "\n",
       "    .dataframe tbody tr th {\n",
       "        vertical-align: top;\n",
       "    }\n",
       "\n",
       "    .dataframe thead th {\n",
       "        text-align: right;\n",
       "    }\n",
       "</style>\n",
       "<table border=\"1\" class=\"dataframe\">\n",
       "  <thead>\n",
       "    <tr style=\"text-align: right;\">\n",
       "      <th>Voucher Discounts</th>\n",
       "      <th>10K</th>\n",
       "      <th>15K</th>\n",
       "      <th>20K</th>\n",
       "      <th>25K</th>\n",
       "    </tr>\n",
       "    <tr>\n",
       "      <th>Reminder Frequency</th>\n",
       "      <th></th>\n",
       "      <th></th>\n",
       "      <th></th>\n",
       "      <th></th>\n",
       "    </tr>\n",
       "  </thead>\n",
       "  <tbody>\n",
       "    <tr>\n",
       "      <th>Frequent</th>\n",
       "      <td>6.494747</td>\n",
       "      <td>9.084699</td>\n",
       "      <td>12.068966</td>\n",
       "      <td>17.644887</td>\n",
       "    </tr>\n",
       "    <tr>\n",
       "      <th>Non-Frequent</th>\n",
       "      <td>5.488005</td>\n",
       "      <td>6.337372</td>\n",
       "      <td>10.591569</td>\n",
       "      <td>12.288687</td>\n",
       "    </tr>\n",
       "  </tbody>\n",
       "</table>\n",
       "</div>"
      ],
      "text/plain": [
       "Voucher Discounts        10K       15K        20K        25K\n",
       "Reminder Frequency                                          \n",
       "Frequent            6.494747  9.084699  12.068966  17.644887\n",
       "Non-Frequent        5.488005  6.337372  10.591569  12.288687"
      ]
     },
     "execution_count": 3,
     "metadata": {},
     "output_type": "execute_result"
    }
   ],
   "source": [
    "df['redeem/target%'] = (df['Redeemed Users'] / df['Target Users']) * 100\n",
    "df['Non Redeem Users'] = df['Target Users'] - df['Redeemed Users'] \n",
    "df = df[df['Reminder Frequency'] != 'Control Group']\n",
    "freq = df[['Reminder Frequency', 'Voucher Discounts', 'redeem/target%']].groupby(['Reminder Frequency','Voucher Discounts']).sum()\n",
    "freq =  pd.pivot_table(freq, values = 'redeem/target%', index = ['Reminder Frequency'], columns = ['Voucher Discounts'], aggfunc = np.sum, fill_value = 0)\n",
    "freq "
   ]
  },
  {
   "cell_type": "code",
   "execution_count": 4,
   "id": "dd15c1b3",
   "metadata": {},
   "outputs": [
    {
     "data": {
      "text/html": [
       "<div>\n",
       "<style scoped>\n",
       "    .dataframe tbody tr th:only-of-type {\n",
       "        vertical-align: middle;\n",
       "    }\n",
       "\n",
       "    .dataframe tbody tr th {\n",
       "        vertical-align: top;\n",
       "    }\n",
       "\n",
       "    .dataframe thead th {\n",
       "        text-align: right;\n",
       "    }\n",
       "</style>\n",
       "<table border=\"1\" class=\"dataframe\">\n",
       "  <thead>\n",
       "    <tr style=\"text-align: right;\">\n",
       "      <th></th>\n",
       "      <th>Reminder Frequency</th>\n",
       "      <th>Redeemed Users</th>\n",
       "      <th>Target Users</th>\n",
       "      <th>redeem/target%</th>\n",
       "    </tr>\n",
       "  </thead>\n",
       "  <tbody>\n",
       "    <tr>\n",
       "      <th>0</th>\n",
       "      <td>Frequent</td>\n",
       "      <td>1270</td>\n",
       "      <td>11446</td>\n",
       "      <td>11.095579</td>\n",
       "    </tr>\n",
       "    <tr>\n",
       "      <th>1</th>\n",
       "      <td>Non-Frequent</td>\n",
       "      <td>1048</td>\n",
       "      <td>12161</td>\n",
       "      <td>8.617712</td>\n",
       "    </tr>\n",
       "  </tbody>\n",
       "</table>\n",
       "</div>"
      ],
      "text/plain": [
       "  Reminder Frequency  Redeemed Users  Target Users  redeem/target%\n",
       "0           Frequent            1270         11446       11.095579\n",
       "1       Non-Frequent            1048         12161        8.617712"
      ]
     },
     "execution_count": 4,
     "metadata": {},
     "output_type": "execute_result"
    }
   ],
   "source": [
    "reminder_freq = df[['Reminder Frequency', 'Redeemed Users', 'Target Users']].groupby('Reminder Frequency').sum().reset_index()\n",
    "reminder_freq['redeem/target%'] = (reminder_freq['Redeemed Users'] / reminder_freq['Target Users']) * 100\n",
    "reminder_freq"
   ]
  },
  {
   "cell_type": "code",
   "execution_count": 5,
   "id": "4adf2123",
   "metadata": {},
   "outputs": [
    {
     "name": "stdout",
     "output_type": "stream",
     "text": [
      "z_stat: 6.394, p_value: 0.000\n",
      "Reject the null hypothesis - suggest the alternative hypothesis is true\n"
     ]
    }
   ],
   "source": [
    "##Optimal Reminder Scheme\n",
    "\n",
    "## HO: p1 = p2 \n",
    "## H1: p1 > p2 [Frequent Reminder Scheme Redeem% > Non-Frequent Reminder Scheme Redeem%]\n",
    "\n",
    "significance = 0.05\n",
    "\n",
    "sample_success_a, sample_size_a = (1270, 11446)\n",
    "sample_success_b, sample_size_b = (1048, 12161)\n",
    "\n",
    "successes = np.array([sample_success_a, sample_success_b])\n",
    "samples = np.array([sample_size_a, sample_size_b])\n",
    "\n",
    "stat, p_value = proportions_ztest(count=successes, nobs=samples,  alternative='larger')\n",
    "# report\n",
    "print('z_stat: %0.3f, p_value: %0.3f' % (stat, p_value))\n",
    "if p_value > significance:\n",
    "   print (\"Fail to reject the null hypothesis - we have nothing else to say\")\n",
    "else:\n",
    "   print (\"Reject the null hypothesis - suggest the alternative hypothesis is true\")"
   ]
  },
  {
   "cell_type": "code",
   "execution_count": 6,
   "id": "3d49d25a",
   "metadata": {},
   "outputs": [
    {
     "data": {
      "text/html": [
       "<div>\n",
       "<style scoped>\n",
       "    .dataframe tbody tr th:only-of-type {\n",
       "        vertical-align: middle;\n",
       "    }\n",
       "\n",
       "    .dataframe tbody tr th {\n",
       "        vertical-align: top;\n",
       "    }\n",
       "\n",
       "    .dataframe thead th {\n",
       "        text-align: right;\n",
       "    }\n",
       "</style>\n",
       "<table border=\"1\" class=\"dataframe\">\n",
       "  <thead>\n",
       "    <tr style=\"text-align: right;\">\n",
       "      <th></th>\n",
       "      <th>Voucher Discounts</th>\n",
       "      <th>Redeemed Users</th>\n",
       "      <th>Target Users</th>\n",
       "      <th>redeem/target%</th>\n",
       "    </tr>\n",
       "  </thead>\n",
       "  <tbody>\n",
       "    <tr>\n",
       "      <th>0</th>\n",
       "      <td>10K</td>\n",
       "      <td>371</td>\n",
       "      <td>6184</td>\n",
       "      <td>5.999353</td>\n",
       "    </tr>\n",
       "    <tr>\n",
       "      <th>1</th>\n",
       "      <td>15K</td>\n",
       "      <td>470</td>\n",
       "      <td>6147</td>\n",
       "      <td>7.646006</td>\n",
       "    </tr>\n",
       "    <tr>\n",
       "      <th>2</th>\n",
       "      <td>20K</td>\n",
       "      <td>621</td>\n",
       "      <td>5491</td>\n",
       "      <td>11.309415</td>\n",
       "    </tr>\n",
       "    <tr>\n",
       "      <th>3</th>\n",
       "      <td>25K</td>\n",
       "      <td>856</td>\n",
       "      <td>5785</td>\n",
       "      <td>14.796889</td>\n",
       "    </tr>\n",
       "  </tbody>\n",
       "</table>\n",
       "</div>"
      ],
      "text/plain": [
       "  Voucher Discounts  Redeemed Users  Target Users  redeem/target%\n",
       "0               10K             371          6184        5.999353\n",
       "1               15K             470          6147        7.646006\n",
       "2               20K             621          5491       11.309415\n",
       "3               25K             856          5785       14.796889"
      ]
     },
     "execution_count": 6,
     "metadata": {},
     "output_type": "execute_result"
    }
   ],
   "source": [
    "voucher_freq = df[['Voucher Discounts', 'Redeemed Users', 'Target Users']].groupby('Voucher Discounts').sum().reset_index()\n",
    "voucher_freq['redeem/target%'] = (voucher_freq['Redeemed Users'] / voucher_freq['Target Users']) * 100\n",
    "voucher_freq"
   ]
  },
  {
   "cell_type": "code",
   "execution_count": 7,
   "id": "4f4c520c",
   "metadata": {},
   "outputs": [
    {
     "data": {
      "text/html": [
       "<div>\n",
       "<style scoped>\n",
       "    .dataframe tbody tr th:only-of-type {\n",
       "        vertical-align: middle;\n",
       "    }\n",
       "\n",
       "    .dataframe tbody tr th {\n",
       "        vertical-align: top;\n",
       "    }\n",
       "\n",
       "    .dataframe thead th {\n",
       "        text-align: right;\n",
       "    }\n",
       "</style>\n",
       "<table border=\"1\" class=\"dataframe\">\n",
       "  <thead>\n",
       "    <tr style=\"text-align: right;\">\n",
       "      <th></th>\n",
       "      <th>voucher discount</th>\n",
       "      <th>Redeemed Users</th>\n",
       "      <th>Target Users</th>\n",
       "      <th>redeem/target%</th>\n",
       "    </tr>\n",
       "  </thead>\n",
       "  <tbody>\n",
       "    <tr>\n",
       "      <th>0</th>\n",
       "      <td>25K</td>\n",
       "      <td>856</td>\n",
       "      <td>5785</td>\n",
       "      <td>14.796889</td>\n",
       "    </tr>\n",
       "    <tr>\n",
       "      <th>1</th>\n",
       "      <td>Other</td>\n",
       "      <td>1462</td>\n",
       "      <td>17822</td>\n",
       "      <td>8.203344</td>\n",
       "    </tr>\n",
       "  </tbody>\n",
       "</table>\n",
       "</div>"
      ],
      "text/plain": [
       "  voucher discount  Redeemed Users  Target Users  redeem/target%\n",
       "0              25K             856          5785       14.796889\n",
       "1            Other            1462         17822        8.203344"
      ]
     },
     "execution_count": 7,
     "metadata": {},
     "output_type": "execute_result"
    }
   ],
   "source": [
    "df['voucher discount'] = np.where(df['Voucher Discounts'].isin(['10K', '15K', '20K']), 'Other', df['Voucher Discounts'])\n",
    "voucher_freq = df[['voucher discount', 'Redeemed Users', 'Target Users']].groupby('voucher discount').sum().reset_index()\n",
    "voucher_freq['redeem/target%'] = (voucher_freq['Redeemed Users'] / voucher_freq['Target Users']) * 100\n",
    "voucher_freq"
   ]
  },
  {
   "cell_type": "code",
   "execution_count": 8,
   "id": "203cb78c",
   "metadata": {},
   "outputs": [
    {
     "name": "stdout",
     "output_type": "stream",
     "text": [
      "z_stat: 14.643, p_value: 0.000\n",
      "Reject the null hypothesis - suggest the alternative hypothesis is true\n"
     ]
    }
   ],
   "source": [
    "##Optimal Voucher Discount\n",
    "\n",
    "## HO: p1 = p2 \n",
    "## H1: p1 > p2 [Voucher discount 25K Redeem% > Other Voucher discount groups Redeem%]\n",
    "\n",
    "significance = 0.05\n",
    "\n",
    "sample_success_a, sample_size_a = (856, 5785)\n",
    "sample_success_b, sample_size_b = (1462, 17822)\n",
    "\n",
    "successes = np.array([sample_success_a, sample_success_b])\n",
    "samples = np.array([sample_size_a, sample_size_b])\n",
    "\n",
    "stat, p_value = proportions_ztest(count=successes, nobs=samples,  alternative='larger')\n",
    "# report\n",
    "print('z_stat: %0.3f, p_value: %0.3f' % (stat, p_value))\n",
    "if p_value > significance:\n",
    "   print (\"Fail to reject the null hypothesis - we have nothing else to say\")\n",
    "else:\n",
    "   print (\"Reject the null hypothesis - suggest the alternative hypothesis is true\")"
   ]
  },
  {
   "cell_type": "code",
   "execution_count": 9,
   "id": "a2c714b3",
   "metadata": {},
   "outputs": [
    {
     "name": "stdout",
     "output_type": "stream",
     "text": [
      "z_stat: 5.486, p_value: 0.000\n",
      "Reject the null hypothesis - suggest the alternative hypothesis is true\n"
     ]
    }
   ],
   "source": [
    "##Optimal Voucher Discount\n",
    "\n",
    "## HO: p1 = p2 \n",
    "## H1: p1 > p2 [Voucher discount 25K Redeem% > Voucher discount 20K Redeem%]\n",
    "\n",
    "significance = 0.05\n",
    "\n",
    "sample_success_a, sample_size_a = (856, 5785)\n",
    "sample_success_b, sample_size_b = (621, 5491)\n",
    "\n",
    "successes = np.array([sample_success_a, sample_success_b])\n",
    "samples = np.array([sample_size_a, sample_size_b])\n",
    "\n",
    "stat, p_value = proportions_ztest(count=successes, nobs=samples,  alternative='larger')\n",
    "# report\n",
    "print('z_stat: %0.3f, p_value: %0.3f' % (stat, p_value))\n",
    "if p_value > significance:\n",
    "   print (\"Fail to reject the null hypothesis - we have nothing else to say\")\n",
    "else:\n",
    "   print (\"Reject the null hypothesis - suggest the alternative hypothesis is true\")"
   ]
  },
  {
   "cell_type": "code",
   "execution_count": null,
   "id": "1415eb16",
   "metadata": {},
   "outputs": [],
   "source": []
  }
 ],
 "metadata": {
  "kernelspec": {
   "display_name": "Python 3 (ipykernel)",
   "language": "python",
   "name": "python3"
  },
  "language_info": {
   "codemirror_mode": {
    "name": "ipython",
    "version": 3
   },
   "file_extension": ".py",
   "mimetype": "text/x-python",
   "name": "python",
   "nbconvert_exporter": "python",
   "pygments_lexer": "ipython3",
   "version": "3.9.5"
  }
 },
 "nbformat": 4,
 "nbformat_minor": 5
}
