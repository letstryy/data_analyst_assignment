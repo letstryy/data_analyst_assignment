{
 "cells": [
  {
   "cell_type": "code",
   "execution_count": 1,
   "id": "1f5c4cc7",
   "metadata": {},
   "outputs": [],
   "source": [
    "import pandas as pd\n",
    "pd.set_option('display.float_format', lambda x: '%.10f' % x)\n",
    "import numpy as np\n",
    "import datetime as dt\n",
    "from sklearn.cluster import KMeans\n",
    "import matplotlib.pyplot as plt\n",
    "import seaborn as sns\n",
    "import warnings\n",
    "warnings.filterwarnings(\"ignore\")"
   ]
  },
  {
   "cell_type": "code",
   "execution_count": 2,
   "id": "bc6663e1",
   "metadata": {},
   "outputs": [
    {
     "data": {
      "text/html": [
       "<div>\n",
       "<style scoped>\n",
       "    .dataframe tbody tr th:only-of-type {\n",
       "        vertical-align: middle;\n",
       "    }\n",
       "\n",
       "    .dataframe tbody tr th {\n",
       "        vertical-align: top;\n",
       "    }\n",
       "\n",
       "    .dataframe thead th {\n",
       "        text-align: right;\n",
       "    }\n",
       "</style>\n",
       "<table border=\"1\" class=\"dataframe\">\n",
       "  <thead>\n",
       "    <tr style=\"text-align: right;\">\n",
       "      <th></th>\n",
       "      <th>order_no</th>\n",
       "      <th>customer_id</th>\n",
       "      <th>driver_id</th>\n",
       "      <th>service_type</th>\n",
       "      <th>booking_time</th>\n",
       "      <th>actual_gmv</th>\n",
       "    </tr>\n",
       "  </thead>\n",
       "  <tbody>\n",
       "    <tr>\n",
       "      <th>0</th>\n",
       "      <td>GK-11-377000658</td>\n",
       "      <td>141</td>\n",
       "      <td>541541952.0000000000</td>\n",
       "      <td>GO-SEND-WEB</td>\n",
       "      <td>2021-01-09 00:04:35.600785+00:00</td>\n",
       "      <td>NaN</td>\n",
       "    </tr>\n",
       "    <tr>\n",
       "      <th>1</th>\n",
       "      <td>GK-11-377000660</td>\n",
       "      <td>141</td>\n",
       "      <td>541860727.0000000000</td>\n",
       "      <td>GO-SEND-WEB</td>\n",
       "      <td>2021-01-09 00:04:36.042753+00:00</td>\n",
       "      <td>NaN</td>\n",
       "    </tr>\n",
       "    <tr>\n",
       "      <th>2</th>\n",
       "      <td>GK-11-377001095</td>\n",
       "      <td>141</td>\n",
       "      <td>700871170.0000000000</td>\n",
       "      <td>GO-SEND-WEB</td>\n",
       "      <td>2021-01-09 00:08:43.994586+00:00</td>\n",
       "      <td>NaN</td>\n",
       "    </tr>\n",
       "    <tr>\n",
       "      <th>3</th>\n",
       "      <td>GK-11-377001557</td>\n",
       "      <td>141</td>\n",
       "      <td>541614894.0000000000</td>\n",
       "      <td>GO-SEND-WEB</td>\n",
       "      <td>2021-01-09 00:12:49.208030+00:00</td>\n",
       "      <td>NaN</td>\n",
       "    </tr>\n",
       "    <tr>\n",
       "      <th>4</th>\n",
       "      <td>GK-11-377002123</td>\n",
       "      <td>141</td>\n",
       "      <td>541213672.0000000000</td>\n",
       "      <td>GO-SEND-WEB</td>\n",
       "      <td>2021-01-09 00:17:34.530810+00:00</td>\n",
       "      <td>NaN</td>\n",
       "    </tr>\n",
       "  </tbody>\n",
       "</table>\n",
       "</div>"
      ],
      "text/plain": [
       "          order_no  customer_id            driver_id service_type  \\\n",
       "0  GK-11-377000658          141 541541952.0000000000  GO-SEND-WEB   \n",
       "1  GK-11-377000660          141 541860727.0000000000  GO-SEND-WEB   \n",
       "2  GK-11-377001095          141 700871170.0000000000  GO-SEND-WEB   \n",
       "3  GK-11-377001557          141 541614894.0000000000  GO-SEND-WEB   \n",
       "4  GK-11-377002123          141 541213672.0000000000  GO-SEND-WEB   \n",
       "\n",
       "                       booking_time  actual_gmv  \n",
       "0  2021-01-09 00:04:35.600785+00:00         NaN  \n",
       "1  2021-01-09 00:04:36.042753+00:00         NaN  \n",
       "2  2021-01-09 00:08:43.994586+00:00         NaN  \n",
       "3  2021-01-09 00:12:49.208030+00:00         NaN  \n",
       "4  2021-01-09 00:17:34.530810+00:00         NaN  "
      ]
     },
     "execution_count": 2,
     "metadata": {},
     "output_type": "execute_result"
    }
   ],
   "source": [
    "df = pd.read_csv('assignment_data.csv', index_col=0)\n",
    "df.head()"
   ]
  },
  {
   "cell_type": "code",
   "execution_count": 3,
   "id": "42ac48f5",
   "metadata": {},
   "outputs": [
    {
     "name": "stdout",
     "output_type": "stream",
     "text": [
      "The data has 5820463 rows and 6 columns\n"
     ]
    }
   ],
   "source": [
    "print ('The data has {0} rows and {1} columns'.format(df.shape[0],df.shape[1]))"
   ]
  },
  {
   "cell_type": "code",
   "execution_count": 4,
   "id": "49374963",
   "metadata": {},
   "outputs": [
    {
     "name": "stdout",
     "output_type": "stream",
     "text": [
      "<class 'pandas.core.frame.DataFrame'>\n",
      "Int64Index: 5820463 entries, 0 to 5820462\n",
      "Data columns (total 6 columns):\n",
      " #   Column        Dtype  \n",
      "---  ------        -----  \n",
      " 0   order_no      object \n",
      " 1   customer_id   int64  \n",
      " 2   driver_id     float64\n",
      " 3   service_type  object \n",
      " 4   booking_time  object \n",
      " 5   actual_gmv    float64\n",
      "dtypes: float64(2), int64(1), object(3)\n",
      "memory usage: 310.8+ MB\n"
     ]
    }
   ],
   "source": [
    "df.info()"
   ]
  },
  {
   "cell_type": "code",
   "execution_count": 5,
   "id": "0088f7b1",
   "metadata": {},
   "outputs": [
    {
     "name": "stdout",
     "output_type": "stream",
     "text": [
      "Duplicate Rows: 1164094\n"
     ]
    }
   ],
   "source": [
    "# Selecting duplicate rows except first \n",
    "# occurrence based on all columns\n",
    "duplicate = df[df.duplicated()]\n",
    "print(\"Duplicate Rows:\", duplicate.shape[0])"
   ]
  },
  {
   "cell_type": "code",
   "execution_count": 6,
   "id": "016698d0",
   "metadata": {},
   "outputs": [
    {
     "name": "stdout",
     "output_type": "stream",
     "text": [
      "No of Rows after dropping duplicate rows: 4656369\n"
     ]
    }
   ],
   "source": [
    "df = df.drop_duplicates()\n",
    "print(\"No of Rows after dropping duplicate rows:\", df.shape[0])"
   ]
  },
  {
   "cell_type": "code",
   "execution_count": 7,
   "id": "cf227610",
   "metadata": {},
   "outputs": [
    {
     "data": {
      "text/plain": [
       "Index(['driver_id', 'actual_gmv'], dtype='object')"
      ]
     },
     "execution_count": 7,
     "metadata": {},
     "output_type": "execute_result"
    }
   ],
   "source": [
    "## check missing values\n",
    "df.columns[df.isnull().any()]"
   ]
  },
  {
   "cell_type": "code",
   "execution_count": 8,
   "id": "f9473646",
   "metadata": {},
   "outputs": [
    {
     "data": {
      "text/plain": [
       "driver_id    0.1153037914\n",
       "actual_gmv   0.5869171880\n",
       "dtype: float64"
      ]
     },
     "execution_count": 8,
     "metadata": {},
     "output_type": "execute_result"
    }
   ],
   "source": [
    "## missing value counts in each of these columns\n",
    "miss = df.isnull().sum()/len(df)\n",
    "miss = miss[miss > 0]\n",
    "miss.sort_values(inplace=True)\n",
    "miss"
   ]
  },
  {
   "cell_type": "code",
   "execution_count": 9,
   "id": "6fcc33b6",
   "metadata": {},
   "outputs": [],
   "source": [
    "df['actual_gmv'] = df['actual_gmv'].fillna(0)\n",
    "df['driver_id'] = df['driver_id'].fillna(-1)"
   ]
  },
  {
   "cell_type": "code",
   "execution_count": 10,
   "id": "02d04986",
   "metadata": {},
   "outputs": [],
   "source": [
    "df['booking_time'] = pd.to_datetime(df['booking_time'])\n",
    "df['booking_date'] = df['booking_time'].dt.date\n",
    "df['booking_date'] = df['booking_date'].astype(str)\n",
    "df['booking_month'] = df['booking_time'].dt.strftime('%Y-%m')"
   ]
  },
  {
   "cell_type": "code",
   "execution_count": 11,
   "id": "16f837a7",
   "metadata": {},
   "outputs": [
    {
     "data": {
      "text/html": [
       "<div>\n",
       "<style scoped>\n",
       "    .dataframe tbody tr th:only-of-type {\n",
       "        vertical-align: middle;\n",
       "    }\n",
       "\n",
       "    .dataframe tbody tr th {\n",
       "        vertical-align: top;\n",
       "    }\n",
       "\n",
       "    .dataframe thead th {\n",
       "        text-align: right;\n",
       "    }\n",
       "</style>\n",
       "<table border=\"1\" class=\"dataframe\">\n",
       "  <thead>\n",
       "    <tr style=\"text-align: right;\">\n",
       "      <th></th>\n",
       "      <th>order_no</th>\n",
       "      <th>customer_id</th>\n",
       "      <th>driver_id</th>\n",
       "      <th>service_type</th>\n",
       "      <th>booking_time</th>\n",
       "      <th>actual_gmv</th>\n",
       "      <th>booking_date</th>\n",
       "      <th>booking_month</th>\n",
       "    </tr>\n",
       "  </thead>\n",
       "  <tbody>\n",
       "    <tr>\n",
       "      <th>0</th>\n",
       "      <td>GK-11-377000658</td>\n",
       "      <td>141</td>\n",
       "      <td>541541952.0000000000</td>\n",
       "      <td>GO-SEND-WEB</td>\n",
       "      <td>2021-01-09 00:04:35.600785+00:00</td>\n",
       "      <td>0.0000000000</td>\n",
       "      <td>2021-01-09</td>\n",
       "      <td>2021-01</td>\n",
       "    </tr>\n",
       "    <tr>\n",
       "      <th>1</th>\n",
       "      <td>GK-11-377000660</td>\n",
       "      <td>141</td>\n",
       "      <td>541860727.0000000000</td>\n",
       "      <td>GO-SEND-WEB</td>\n",
       "      <td>2021-01-09 00:04:36.042753+00:00</td>\n",
       "      <td>0.0000000000</td>\n",
       "      <td>2021-01-09</td>\n",
       "      <td>2021-01</td>\n",
       "    </tr>\n",
       "    <tr>\n",
       "      <th>2</th>\n",
       "      <td>GK-11-377001095</td>\n",
       "      <td>141</td>\n",
       "      <td>700871170.0000000000</td>\n",
       "      <td>GO-SEND-WEB</td>\n",
       "      <td>2021-01-09 00:08:43.994586+00:00</td>\n",
       "      <td>0.0000000000</td>\n",
       "      <td>2021-01-09</td>\n",
       "      <td>2021-01</td>\n",
       "    </tr>\n",
       "    <tr>\n",
       "      <th>3</th>\n",
       "      <td>GK-11-377001557</td>\n",
       "      <td>141</td>\n",
       "      <td>541614894.0000000000</td>\n",
       "      <td>GO-SEND-WEB</td>\n",
       "      <td>2021-01-09 00:12:49.208030+00:00</td>\n",
       "      <td>0.0000000000</td>\n",
       "      <td>2021-01-09</td>\n",
       "      <td>2021-01</td>\n",
       "    </tr>\n",
       "    <tr>\n",
       "      <th>4</th>\n",
       "      <td>GK-11-377002123</td>\n",
       "      <td>141</td>\n",
       "      <td>541213672.0000000000</td>\n",
       "      <td>GO-SEND-WEB</td>\n",
       "      <td>2021-01-09 00:17:34.530810+00:00</td>\n",
       "      <td>0.0000000000</td>\n",
       "      <td>2021-01-09</td>\n",
       "      <td>2021-01</td>\n",
       "    </tr>\n",
       "  </tbody>\n",
       "</table>\n",
       "</div>"
      ],
      "text/plain": [
       "          order_no  customer_id            driver_id service_type  \\\n",
       "0  GK-11-377000658          141 541541952.0000000000  GO-SEND-WEB   \n",
       "1  GK-11-377000660          141 541860727.0000000000  GO-SEND-WEB   \n",
       "2  GK-11-377001095          141 700871170.0000000000  GO-SEND-WEB   \n",
       "3  GK-11-377001557          141 541614894.0000000000  GO-SEND-WEB   \n",
       "4  GK-11-377002123          141 541213672.0000000000  GO-SEND-WEB   \n",
       "\n",
       "                      booking_time   actual_gmv booking_date booking_month  \n",
       "0 2021-01-09 00:04:35.600785+00:00 0.0000000000   2021-01-09       2021-01  \n",
       "1 2021-01-09 00:04:36.042753+00:00 0.0000000000   2021-01-09       2021-01  \n",
       "2 2021-01-09 00:08:43.994586+00:00 0.0000000000   2021-01-09       2021-01  \n",
       "3 2021-01-09 00:12:49.208030+00:00 0.0000000000   2021-01-09       2021-01  \n",
       "4 2021-01-09 00:17:34.530810+00:00 0.0000000000   2021-01-09       2021-01  "
      ]
     },
     "execution_count": 11,
     "metadata": {},
     "output_type": "execute_result"
    }
   ],
   "source": [
    "df.head()"
   ]
  },
  {
   "cell_type": "code",
   "execution_count": 12,
   "id": "f14ca7fd",
   "metadata": {},
   "outputs": [
    {
     "data": {
      "text/plain": [
       "GO-PULSA              6.8723075856\n",
       "GO-FOOD               6.8723075856\n",
       "GO-RIDE               6.8723075856\n",
       "GO-CAR                6.8723075856\n",
       "GO-BILLS              6.7736040679\n",
       "GO-SHOP               6.7551347413\n",
       "GO-CAR-BIRD           6.7546193182\n",
       "GO-SEND               6.7287407849\n",
       "GO-CAR-XTRA           6.7125908621\n",
       "GO-KILAT              6.6912222807\n",
       "GO-MART               6.6575479735\n",
       "GO-FOOD-PICKUP        6.6321633874\n",
       "GO-KILAT-SAMEDAY      6.5307753745\n",
       "GO-SEND-SAMEDAY       5.0127041049\n",
       "GO-BLUEBIRD           4.0348391633\n",
       "GO-BOX                1.1861602893\n",
       "GO-SEND-WEB           0.7500908970\n",
       "GO-TIX                0.7454091375\n",
       "GO-SEND-INTERCITY     0.4845191607\n",
       "GO-SEND-WEB-SAMEDAY   0.0606481144\n",
       "Name: service_type, dtype: float64"
      ]
     },
     "execution_count": 12,
     "metadata": {},
     "output_type": "execute_result"
    }
   ],
   "source": [
    "(df['service_type'].value_counts() / df.shape[0]) * 100"
   ]
  },
  {
   "cell_type": "code",
   "execution_count": 13,
   "id": "758c5c66",
   "metadata": {},
   "outputs": [
    {
     "data": {
      "text/plain": [
       "2021-01   98.6392830981\n",
       "2020-12    1.3607169019\n",
       "Name: booking_month, dtype: float64"
      ]
     },
     "execution_count": 13,
     "metadata": {},
     "output_type": "execute_result"
    }
   ],
   "source": [
    "(df['booking_month'].value_counts() / df.shape[0]) * 100"
   ]
  },
  {
   "cell_type": "code",
   "execution_count": 14,
   "id": "a30b4d65",
   "metadata": {},
   "outputs": [
    {
     "data": {
      "text/plain": [
       "0.0000000000            670113\n",
       "-1.0000000000           536897\n",
       "700402028.0000000000       285\n",
       "700439533.0000000000       267\n",
       "700344087.0000000000       259\n",
       "                         ...  \n",
       "541840091.0000000000         1\n",
       "541110414.0000000000         1\n",
       "540548350.0000000000         1\n",
       "540969612.0000000000         1\n",
       "541339358.0000000000         1\n",
       "Name: driver_id, Length: 329888, dtype: int64"
      ]
     },
     "execution_count": 14,
     "metadata": {},
     "output_type": "execute_result"
    }
   ],
   "source": [
    "df['driver_id'].value_counts()"
   ]
  },
  {
   "cell_type": "code",
   "execution_count": 15,
   "id": "4d8aca49",
   "metadata": {},
   "outputs": [
    {
     "data": {
      "text/plain": [
       "GO-PULSA    320000\n",
       "GO-BILLS    315404\n",
       "GO-TIX       34709\n",
       "Name: service_type, dtype: int64"
      ]
     },
     "execution_count": 15,
     "metadata": {},
     "output_type": "execute_result"
    }
   ],
   "source": [
    "df[df['driver_id'] == 0]['service_type'].value_counts()"
   ]
  },
  {
   "cell_type": "code",
   "execution_count": 16,
   "id": "91c4febd",
   "metadata": {},
   "outputs": [
    {
     "data": {
      "text/plain": [
       "GO-FOOD-PICKUP         308818\n",
       "GO-CAR                  42102\n",
       "GO-CAR-XTRA             38524\n",
       "GO-FOOD                 25888\n",
       "GO-BLUEBIRD             25883\n",
       "GO-SEND-INTERCITY       22561\n",
       "GO-SEND-SAMEDAY         22276\n",
       "GO-SHOP                 17266\n",
       "GO-RIDE                 17189\n",
       "GO-MART                  5491\n",
       "GO-BOX                   4877\n",
       "GO-SEND                  3207\n",
       "GO-KILAT-SAMEDAY         1929\n",
       "GO-CAR-BIRD               550\n",
       "GO-KILAT                  207\n",
       "GO-SEND-WEB                78\n",
       "GO-SEND-WEB-SAMEDAY        51\n",
       "Name: service_type, dtype: int64"
      ]
     },
     "execution_count": 16,
     "metadata": {},
     "output_type": "execute_result"
    }
   ],
   "source": [
    "df[df['driver_id'] == -1]['service_type'].value_counts()"
   ]
  },
  {
   "cell_type": "code",
   "execution_count": 17,
   "id": "508c709b",
   "metadata": {},
   "outputs": [
    {
     "data": {
      "text/plain": [
       "2            271941\n",
       "128          189274\n",
       "8             86041\n",
       "12            39787\n",
       "141           37751\n",
       "              ...  \n",
       "592540478         1\n",
       "668029754         1\n",
       "697379637         1\n",
       "571505439         1\n",
       "549081269         1\n",
       "Name: customer_id, Length: 1948568, dtype: int64"
      ]
     },
     "execution_count": 17,
     "metadata": {},
     "output_type": "execute_result"
    }
   ],
   "source": [
    "df['customer_id'].value_counts()"
   ]
  },
  {
   "cell_type": "code",
   "execution_count": 18,
   "id": "754f1d6a",
   "metadata": {},
   "outputs": [
    {
     "data": {
      "text/plain": [
       "GO-KILAT            297103\n",
       "GO-KILAT-SAMEDAY    289940\n",
       "Name: service_type, dtype: int64"
      ]
     },
     "execution_count": 18,
     "metadata": {},
     "output_type": "execute_result"
    }
   ],
   "source": [
    "df[df['customer_id'].isin([2,128,8,12])]['service_type'].value_counts()"
   ]
  },
  {
   "cell_type": "code",
   "execution_count": 19,
   "id": "094f069d",
   "metadata": {},
   "outputs": [
    {
     "data": {
      "text/plain": [
       "count    4656369.0000000000\n",
       "mean       28019.3794439401\n",
       "std        78276.1672529983\n",
       "min            0.0000000000\n",
       "25%            0.0000000000\n",
       "50%            0.0000000000\n",
       "75%        32000.0000000000\n",
       "max     14000000.0000000000\n",
       "Name: actual_gmv, dtype: float64"
      ]
     },
     "execution_count": 19,
     "metadata": {},
     "output_type": "execute_result"
    }
   ],
   "source": [
    "## actual_gmv distribution\n",
    "df['actual_gmv'].describe()"
   ]
  },
  {
   "cell_type": "code",
   "execution_count": 20,
   "id": "ade71ef3",
   "metadata": {},
   "outputs": [],
   "source": [
    "## Capping the outlier rows with Percentiles\n",
    "upper_lim = df.groupby('service_type')['actual_gmv'].quantile(.95).reset_index()\n",
    "upper_lim = upper_lim.rename({\"actual_gmv\": \"upper_lim\"}, axis=1)\n",
    "\n",
    "df['upper_lim'] = df['service_type'].map(upper_lim.set_index('service_type')['upper_lim'])\n",
    "df['actual_gmv'] = np.where(df['actual_gmv'] > df['upper_lim'], df['upper_lim'], df['actual_gmv'])"
   ]
  },
  {
   "cell_type": "code",
   "execution_count": 21,
   "id": "0afaeffd",
   "metadata": {},
   "outputs": [
    {
     "data": {
      "text/plain": [
       "<seaborn.axisgrid.FacetGrid at 0x7ff21bc6a8e0>"
      ]
     },
     "execution_count": 21,
     "metadata": {},
     "output_type": "execute_result"
    },
    {
     "data": {
      "image/png": "[encoded data removed]",
      "text/plain": [
       "<Figure size 1008x504 with 1 Axes>"
      ]
     },
     "metadata": {
      "needs_background": "light"
     },
     "output_type": "display_data"
    }
   ],
   "source": [
    "## actual_gmv & service_type \n",
    "def boxplot(x,y,**kwargs):\n",
    "            sns.boxplot(x=x,y=y)\n",
    "            x = plt.xticks(rotation=90)\n",
    "\n",
    "cat = ['service_type']\n",
    "p = pd.melt(df, id_vars='actual_gmv', value_vars=cat)\n",
    "g = sns.FacetGrid (p, col='variable', col_wrap=2, sharex=False, sharey=False, size=7)\n",
    "g = g.map(boxplot, 'value','actual_gmv')\n",
    "g"
   ]
  },
  {
   "cell_type": "markdown",
   "id": "8484d47d",
   "metadata": {},
   "source": [
    "### 1. What fraction of the drivers deliver only food orders on 2021-01-20?"
   ]
  },
  {
   "cell_type": "code",
   "execution_count": 22,
   "id": "2a14599f",
   "metadata": {},
   "outputs": [
    {
     "name": "stdout",
     "output_type": "stream",
     "text": [
      "Distinct number of drivers on 2021-01-20: 21073\n",
      "Distinct number of food order drivers on 2021-01-20: 8626\n",
      "Fraction of the drivers deliver only food orders on 2021-01-20: 40.93%\n"
     ]
    }
   ],
   "source": [
    "## fraction of the drivers deliver only food orders on 2021-01-20 ?\n",
    "## count distinct drivers on 2021-01-20 and amount spend > 0 ?\n",
    "driver = df[(~df['driver_id'].isin([0,-1])) & (df['booking_date'] == '2021-01-20') & (df['actual_gmv'] > 0)]\n",
    "count_driver = len(driver['driver_id'].drop_duplicates())\n",
    "driver_food = driver[(driver['service_type'].str.contains(pat = 'FOOD') == True)]\n",
    "count_driver_food = len(driver_food['driver_id'].drop_duplicates())\n",
    "fraction_drivers_food = round((count_driver_food / count_driver) * 100, 2)\n",
    "\n",
    "print('Distinct number of drivers on 2021-01-20:', count_driver)\n",
    "print('Distinct number of food order drivers on 2021-01-20:', count_driver_food)\n",
    "print('Fraction of the drivers deliver only food orders on 2021-01-20:', str(fraction_drivers_food) + \"%\")"
   ]
  },
  {
   "cell_type": "markdown",
   "id": "034090fe",
   "metadata": {},
   "source": [
    "### Which customer cohorts should the Marketing team prioritize first?"
   ]
  },
  {
   "cell_type": "code",
   "execution_count": 23,
   "id": "191fa70b",
   "metadata": {},
   "outputs": [],
   "source": [
    "## RFM Analysis\n",
    "## RECENCY (R): Days since last purchase\n",
    "##FREQUENCY (F): Total number of purchases\n",
    "## MONETARY VALUE (M): Total money this customer spent"
   ]
  },
  {
   "cell_type": "code",
   "execution_count": 24,
   "id": "6d0be515",
   "metadata": {},
   "outputs": [
    {
     "data": {
      "text/plain": [
       "'2020-12-31'"
      ]
     },
     "execution_count": 24,
     "metadata": {},
     "output_type": "execute_result"
    }
   ],
   "source": [
    "df['booking_date'].min()"
   ]
  },
  {
   "cell_type": "code",
   "execution_count": 25,
   "id": "5a94a0b3",
   "metadata": {},
   "outputs": [
    {
     "data": {
      "text/plain": [
       "'2021-01-31'"
      ]
     },
     "execution_count": 25,
     "metadata": {},
     "output_type": "execute_result"
    }
   ],
   "source": [
    "df['booking_date'].max()"
   ]
  },
  {
   "cell_type": "code",
   "execution_count": 26,
   "id": "4390bb16",
   "metadata": {},
   "outputs": [
    {
     "data": {
      "text/plain": [
       "['GO-MART',\n",
       " 'GO-TIX',\n",
       " 'GO-FOOD-PICKUP',\n",
       " 'GO-SHOP',\n",
       " 'GO-BILLS',\n",
       " 'GO-PULSA',\n",
       " 'GO-FOOD']"
      ]
     },
     "execution_count": 26,
     "metadata": {},
     "output_type": "execute_result"
    }
   ],
   "source": [
    "## service types with amount spend > 0\n",
    "service = df[df['actual_gmv'] > 0]['service_type'].drop_duplicates().tolist()\n",
    "service"
   ]
  },
  {
   "cell_type": "code",
   "execution_count": 27,
   "id": "ae0dcca0",
   "metadata": {},
   "outputs": [
    {
     "data": {
      "text/html": [
       "<div>\n",
       "<style scoped>\n",
       "    .dataframe tbody tr th:only-of-type {\n",
       "        vertical-align: middle;\n",
       "    }\n",
       "\n",
       "    .dataframe tbody tr th {\n",
       "        vertical-align: top;\n",
       "    }\n",
       "\n",
       "    .dataframe thead th {\n",
       "        text-align: right;\n",
       "    }\n",
       "</style>\n",
       "<table border=\"1\" class=\"dataframe\">\n",
       "  <thead>\n",
       "    <tr style=\"text-align: right;\">\n",
       "      <th></th>\n",
       "      <th>service_type</th>\n",
       "      <th>customer_id</th>\n",
       "      <th>recency</th>\n",
       "      <th>frequency</th>\n",
       "      <th>monetary_value</th>\n",
       "      <th>upper_lim</th>\n",
       "    </tr>\n",
       "  </thead>\n",
       "  <tbody>\n",
       "    <tr>\n",
       "      <th>0</th>\n",
       "      <td>GO-BILLS</td>\n",
       "      <td>110668</td>\n",
       "      <td>6</td>\n",
       "      <td>1</td>\n",
       "      <td>101500.0000000000</td>\n",
       "      <td>525000.0000000000</td>\n",
       "    </tr>\n",
       "    <tr>\n",
       "      <th>1</th>\n",
       "      <td>GO-BILLS</td>\n",
       "      <td>110909</td>\n",
       "      <td>20</td>\n",
       "      <td>1</td>\n",
       "      <td>365167.0000000000</td>\n",
       "      <td>525000.0000000000</td>\n",
       "    </tr>\n",
       "    <tr>\n",
       "      <th>2</th>\n",
       "      <td>GO-BILLS</td>\n",
       "      <td>111262</td>\n",
       "      <td>7</td>\n",
       "      <td>1</td>\n",
       "      <td>23829.0000000000</td>\n",
       "      <td>525000.0000000000</td>\n",
       "    </tr>\n",
       "    <tr>\n",
       "      <th>3</th>\n",
       "      <td>GO-BILLS</td>\n",
       "      <td>111429</td>\n",
       "      <td>23</td>\n",
       "      <td>1</td>\n",
       "      <td>396970.0000000000</td>\n",
       "      <td>525000.0000000000</td>\n",
       "    </tr>\n",
       "    <tr>\n",
       "      <th>4</th>\n",
       "      <td>GO-BILLS</td>\n",
       "      <td>111489</td>\n",
       "      <td>12</td>\n",
       "      <td>1</td>\n",
       "      <td>452500.0000000000</td>\n",
       "      <td>525000.0000000000</td>\n",
       "    </tr>\n",
       "  </tbody>\n",
       "</table>\n",
       "</div>"
      ],
      "text/plain": [
       "  service_type  customer_id  recency  frequency    monetary_value  \\\n",
       "0     GO-BILLS       110668        6          1 101500.0000000000   \n",
       "1     GO-BILLS       110909       20          1 365167.0000000000   \n",
       "2     GO-BILLS       111262        7          1  23829.0000000000   \n",
       "3     GO-BILLS       111429       23          1 396970.0000000000   \n",
       "4     GO-BILLS       111489       12          1 452500.0000000000   \n",
       "\n",
       "          upper_lim  \n",
       "0 525000.0000000000  \n",
       "1 525000.0000000000  \n",
       "2 525000.0000000000  \n",
       "3 525000.0000000000  \n",
       "4 525000.0000000000  "
      ]
     },
     "execution_count": 27,
     "metadata": {},
     "output_type": "execute_result"
    }
   ],
   "source": [
    "## Considering current date: 2021-02-01\n",
    "NOW = dt.datetime(2021,2,1)\n",
    "df['recency'] = (NOW - pd.to_datetime(df['booking_date'])).dt.days\n",
    "rfm = df[df['service_type'].isin(service)].groupby(['service_type','customer_id']).agg({'recency': lambda x: x.min(), 'order_no': lambda x: x.count(), 'actual_gmv': lambda x: x.sum()})\n",
    "rfm.rename(columns={'order_no': 'frequency', 'actual_gmv': 'monetary_value'}, inplace=True)\n",
    "rfm = rfm.reset_index()\n",
    "upper_lim = rfm.groupby('service_type')['monetary_value'].quantile(.95).reset_index()\n",
    "upper_lim = upper_lim.rename({\"monetary_value\": \"upper_lim\"}, axis=1)\n",
    "\n",
    "rfm['upper_lim'] = rfm['service_type'].map(upper_lim.set_index('service_type')['upper_lim'])\n",
    "rfm['monetary_value'] = np.where(rfm['monetary_value'] > rfm['upper_lim'], rfm['upper_lim'], rfm['monetary_value'])\n",
    "rfm.head()"
   ]
  },
  {
   "cell_type": "code",
   "execution_count": 28,
   "id": "d4d05280",
   "metadata": {},
   "outputs": [
    {
     "data": {
      "text/plain": [
       "<AxesSubplot:xlabel='frequency', ylabel='Density'>"
      ]
     },
     "execution_count": 28,
     "metadata": {},
     "output_type": "execute_result"
    },
    {
     "data": {
      "image/png": "[encoded data removed]",
      "text/plain": [
       "<Figure size 1296x288 with 2 Axes>"
      ]
     },
     "metadata": {
      "needs_background": "light"
     },
     "output_type": "display_data"
    }
   ],
   "source": [
    "upper_lim = rfm.groupby('service_type')['frequency'].quantile(.98).reset_index()\n",
    "upper_lim = upper_lim.rename({\"frequency\": \"upper_lim\"}, axis=1)\n",
    "\n",
    "rfm['upper_lim'] = rfm['service_type'].map(upper_lim.set_index('service_type')['upper_lim'])\n",
    "rfm['frequency'] = np.where(rfm['frequency'] > rfm['upper_lim'], rfm['upper_lim'], rfm['frequency'])\n",
    "del rfm['upper_lim']\n",
    "## recency, ## frequency\n",
    "f, ax = plt.subplots(nrows = 1, ncols = 2, figsize=(18, 4))\n",
    "sns.distplot(rfm['recency'],ax=ax[0])\n",
    "sns.distplot(rfm['frequency'],ax=ax[1])"
   ]
  },
  {
   "cell_type": "code",
   "execution_count": 29,
   "id": "8a07a55c",
   "metadata": {},
   "outputs": [
    {
     "data": {
      "text/html": [
       "<div>\n",
       "<style scoped>\n",
       "    .dataframe tbody tr th:only-of-type {\n",
       "        vertical-align: middle;\n",
       "    }\n",
       "\n",
       "    .dataframe tbody tr th {\n",
       "        vertical-align: top;\n",
       "    }\n",
       "\n",
       "    .dataframe thead th {\n",
       "        text-align: right;\n",
       "    }\n",
       "</style>\n",
       "<table border=\"1\" class=\"dataframe\">\n",
       "  <thead>\n",
       "    <tr style=\"text-align: right;\">\n",
       "      <th></th>\n",
       "      <th></th>\n",
       "      <th>recency</th>\n",
       "      <th>frequency</th>\n",
       "      <th>monetary_value</th>\n",
       "    </tr>\n",
       "    <tr>\n",
       "      <th>service_type</th>\n",
       "      <th></th>\n",
       "      <th></th>\n",
       "      <th></th>\n",
       "      <th></th>\n",
       "    </tr>\n",
       "  </thead>\n",
       "  <tbody>\n",
       "    <tr>\n",
       "      <th rowspan=\"3\" valign=\"top\">GO-BILLS</th>\n",
       "      <th>0.2500000000</th>\n",
       "      <td>6.0000000000</td>\n",
       "      <td>1.0000000000</td>\n",
       "      <td>51500.0000000000</td>\n",
       "    </tr>\n",
       "    <tr>\n",
       "      <th>0.5000000000</th>\n",
       "      <td>13.0000000000</td>\n",
       "      <td>1.0000000000</td>\n",
       "      <td>101500.0000000000</td>\n",
       "    </tr>\n",
       "    <tr>\n",
       "      <th>0.7500000000</th>\n",
       "      <td>22.0000000000</td>\n",
       "      <td>2.0000000000</td>\n",
       "      <td>217217.0000000000</td>\n",
       "    </tr>\n",
       "    <tr>\n",
       "      <th rowspan=\"3\" valign=\"top\">GO-FOOD</th>\n",
       "      <th>0.2500000000</th>\n",
       "      <td>7.0000000000</td>\n",
       "      <td>1.0000000000</td>\n",
       "      <td>30000.0000000000</td>\n",
       "    </tr>\n",
       "    <tr>\n",
       "      <th>0.5000000000</th>\n",
       "      <td>15.0000000000</td>\n",
       "      <td>1.0000000000</td>\n",
       "      <td>50000.0000000000</td>\n",
       "    </tr>\n",
       "    <tr>\n",
       "      <th>0.7500000000</th>\n",
       "      <td>23.0000000000</td>\n",
       "      <td>2.0000000000</td>\n",
       "      <td>91000.0000000000</td>\n",
       "    </tr>\n",
       "    <tr>\n",
       "      <th rowspan=\"3\" valign=\"top\">GO-FOOD-PICKUP</th>\n",
       "      <th>0.2500000000</th>\n",
       "      <td>6.0000000000</td>\n",
       "      <td>1.0000000000</td>\n",
       "      <td>40750.0000000000</td>\n",
       "    </tr>\n",
       "    <tr>\n",
       "      <th>0.5000000000</th>\n",
       "      <td>13.0000000000</td>\n",
       "      <td>1.0000000000</td>\n",
       "      <td>70000.0000000000</td>\n",
       "    </tr>\n",
       "    <tr>\n",
       "      <th>0.7500000000</th>\n",
       "      <td>21.0000000000</td>\n",
       "      <td>2.0000000000</td>\n",
       "      <td>120960.0000000000</td>\n",
       "    </tr>\n",
       "    <tr>\n",
       "      <th rowspan=\"3\" valign=\"top\">GO-MART</th>\n",
       "      <th>0.2500000000</th>\n",
       "      <td>6.0000000000</td>\n",
       "      <td>1.0000000000</td>\n",
       "      <td>31500.0000000000</td>\n",
       "    </tr>\n",
       "    <tr>\n",
       "      <th>0.5000000000</th>\n",
       "      <td>14.0000000000</td>\n",
       "      <td>1.0000000000</td>\n",
       "      <td>61200.0000000000</td>\n",
       "    </tr>\n",
       "    <tr>\n",
       "      <th>0.7500000000</th>\n",
       "      <td>22.0000000000</td>\n",
       "      <td>2.0000000000</td>\n",
       "      <td>120900.0000000000</td>\n",
       "    </tr>\n",
       "    <tr>\n",
       "      <th rowspan=\"3\" valign=\"top\">GO-PULSA</th>\n",
       "      <th>0.2500000000</th>\n",
       "      <td>7.0000000000</td>\n",
       "      <td>1.0000000000</td>\n",
       "      <td>15356.0000000000</td>\n",
       "    </tr>\n",
       "    <tr>\n",
       "      <th>0.5000000000</th>\n",
       "      <td>15.0000000000</td>\n",
       "      <td>1.0000000000</td>\n",
       "      <td>30712.0000000000</td>\n",
       "    </tr>\n",
       "    <tr>\n",
       "      <th>0.7500000000</th>\n",
       "      <td>24.0000000000</td>\n",
       "      <td>2.0000000000</td>\n",
       "      <td>75000.0000000000</td>\n",
       "    </tr>\n",
       "    <tr>\n",
       "      <th rowspan=\"3\" valign=\"top\">GO-SHOP</th>\n",
       "      <th>0.2500000000</th>\n",
       "      <td>6.0000000000</td>\n",
       "      <td>1.0000000000</td>\n",
       "      <td>40000.0000000000</td>\n",
       "    </tr>\n",
       "    <tr>\n",
       "      <th>0.5000000000</th>\n",
       "      <td>13.0000000000</td>\n",
       "      <td>1.0000000000</td>\n",
       "      <td>87500.0000000000</td>\n",
       "    </tr>\n",
       "    <tr>\n",
       "      <th>0.7500000000</th>\n",
       "      <td>22.0000000000</td>\n",
       "      <td>2.0000000000</td>\n",
       "      <td>180000.0000000000</td>\n",
       "    </tr>\n",
       "    <tr>\n",
       "      <th rowspan=\"3\" valign=\"top\">GO-TIX</th>\n",
       "      <th>0.2500000000</th>\n",
       "      <td>2.0000000000</td>\n",
       "      <td>1.0000000000</td>\n",
       "      <td>0.0000000000</td>\n",
       "    </tr>\n",
       "    <tr>\n",
       "      <th>0.5000000000</th>\n",
       "      <td>13.0000000000</td>\n",
       "      <td>1.0000000000</td>\n",
       "      <td>55000.0000000000</td>\n",
       "    </tr>\n",
       "    <tr>\n",
       "      <th>0.7500000000</th>\n",
       "      <td>25.0000000000</td>\n",
       "      <td>2.0000000000</td>\n",
       "      <td>132000.0000000000</td>\n",
       "    </tr>\n",
       "  </tbody>\n",
       "</table>\n",
       "</div>"
      ],
      "text/plain": [
       "                                  recency    frequency    monetary_value\n",
       "service_type                                                            \n",
       "GO-BILLS       0.2500000000  6.0000000000 1.0000000000  51500.0000000000\n",
       "               0.5000000000 13.0000000000 1.0000000000 101500.0000000000\n",
       "               0.7500000000 22.0000000000 2.0000000000 217217.0000000000\n",
       "GO-FOOD        0.2500000000  7.0000000000 1.0000000000  30000.0000000000\n",
       "               0.5000000000 15.0000000000 1.0000000000  50000.0000000000\n",
       "               0.7500000000 23.0000000000 2.0000000000  91000.0000000000\n",
       "GO-FOOD-PICKUP 0.2500000000  6.0000000000 1.0000000000  40750.0000000000\n",
       "               0.5000000000 13.0000000000 1.0000000000  70000.0000000000\n",
       "               0.7500000000 21.0000000000 2.0000000000 120960.0000000000\n",
       "GO-MART        0.2500000000  6.0000000000 1.0000000000  31500.0000000000\n",
       "               0.5000000000 14.0000000000 1.0000000000  61200.0000000000\n",
       "               0.7500000000 22.0000000000 2.0000000000 120900.0000000000\n",
       "GO-PULSA       0.2500000000  7.0000000000 1.0000000000  15356.0000000000\n",
       "               0.5000000000 15.0000000000 1.0000000000  30712.0000000000\n",
       "               0.7500000000 24.0000000000 2.0000000000  75000.0000000000\n",
       "GO-SHOP        0.2500000000  6.0000000000 1.0000000000  40000.0000000000\n",
       "               0.5000000000 13.0000000000 1.0000000000  87500.0000000000\n",
       "               0.7500000000 22.0000000000 2.0000000000 180000.0000000000\n",
       "GO-TIX         0.2500000000  2.0000000000 1.0000000000      0.0000000000\n",
       "               0.5000000000 13.0000000000 1.0000000000  55000.0000000000\n",
       "               0.7500000000 25.0000000000 2.0000000000 132000.0000000000"
      ]
     },
     "execution_count": 29,
     "metadata": {},
     "output_type": "execute_result"
    }
   ],
   "source": [
    "quantiles = rfm[['service_type', 'recency', 'frequency', 'monetary_value']].groupby(['service_type']).quantile(q=[0.25,0.5,0.75])\n",
    "quantiles"
   ]
  },
  {
   "cell_type": "code",
   "execution_count": 30,
   "id": "66e25ed1",
   "metadata": {},
   "outputs": [
    {
     "data": {
      "image/png": "[encoded data removed]",
      "text/plain": [
       "<Figure size 432x288 with 1 Axes>"
      ]
     },
     "metadata": {
      "needs_background": "light"
     },
     "output_type": "display_data"
    }
   ],
   "source": [
    "sse={}\n",
    "rfm_recency = rfm[['recency']]\n",
    "for k in range(1, 10):\n",
    "    kmeans = KMeans(n_clusters=k, max_iter=1000).fit(rfm_recency)\n",
    "    rfm_recency[\"clusters\"] = kmeans.labels_\n",
    "    sse[k] = kmeans.inertia_ \n",
    "plt.figure()\n",
    "plt.plot(list(sse.keys()), list(sse.values()))\n",
    "plt.xlabel(\"Number of cluster\")\n",
    "plt.show()"
   ]
  },
  {
   "cell_type": "code",
   "execution_count": 31,
   "id": "22707a59",
   "metadata": {},
   "outputs": [
    {
     "data": {
      "text/html": [
       "<div>\n",
       "<style scoped>\n",
       "    .dataframe tbody tr th:only-of-type {\n",
       "        vertical-align: middle;\n",
       "    }\n",
       "\n",
       "    .dataframe tbody tr th {\n",
       "        vertical-align: top;\n",
       "    }\n",
       "\n",
       "    .dataframe thead th {\n",
       "        text-align: right;\n",
       "    }\n",
       "</style>\n",
       "<table border=\"1\" class=\"dataframe\">\n",
       "  <thead>\n",
       "    <tr style=\"text-align: right;\">\n",
       "      <th></th>\n",
       "      <th>count</th>\n",
       "      <th>mean</th>\n",
       "      <th>std</th>\n",
       "      <th>min</th>\n",
       "      <th>25%</th>\n",
       "      <th>50%</th>\n",
       "      <th>75%</th>\n",
       "      <th>max</th>\n",
       "    </tr>\n",
       "    <tr>\n",
       "      <th>recency_cluster</th>\n",
       "      <th></th>\n",
       "      <th></th>\n",
       "      <th></th>\n",
       "      <th></th>\n",
       "      <th></th>\n",
       "      <th></th>\n",
       "      <th></th>\n",
       "      <th></th>\n",
       "    </tr>\n",
       "  </thead>\n",
       "  <tbody>\n",
       "    <tr>\n",
       "      <th>0</th>\n",
       "      <td>249230.0000000000</td>\n",
       "      <td>27.8533683746</td>\n",
       "      <td>2.5207247548</td>\n",
       "      <td>24.0000000000</td>\n",
       "      <td>26.0000000000</td>\n",
       "      <td>28.0000000000</td>\n",
       "      <td>30.0000000000</td>\n",
       "      <td>32.0000000000</td>\n",
       "    </tr>\n",
       "    <tr>\n",
       "      <th>1</th>\n",
       "      <td>243425.0000000000</td>\n",
       "      <td>19.4269323200</td>\n",
       "      <td>2.2901137611</td>\n",
       "      <td>16.0000000000</td>\n",
       "      <td>17.0000000000</td>\n",
       "      <td>19.0000000000</td>\n",
       "      <td>21.0000000000</td>\n",
       "      <td>23.0000000000</td>\n",
       "    </tr>\n",
       "    <tr>\n",
       "      <th>2</th>\n",
       "      <td>282279.0000000000</td>\n",
       "      <td>11.3879176276</td>\n",
       "      <td>2.3047583530</td>\n",
       "      <td>8.0000000000</td>\n",
       "      <td>9.0000000000</td>\n",
       "      <td>11.0000000000</td>\n",
       "      <td>13.0000000000</td>\n",
       "      <td>15.0000000000</td>\n",
       "    </tr>\n",
       "    <tr>\n",
       "      <th>3</th>\n",
       "      <td>319297.0000000000</td>\n",
       "      <td>3.7691741545</td>\n",
       "      <td>2.0050310618</td>\n",
       "      <td>1.0000000000</td>\n",
       "      <td>2.0000000000</td>\n",
       "      <td>4.0000000000</td>\n",
       "      <td>5.0000000000</td>\n",
       "      <td>7.0000000000</td>\n",
       "    </tr>\n",
       "  </tbody>\n",
       "</table>\n",
       "</div>"
      ],
      "text/plain": [
       "                            count          mean          std           min  \\\n",
       "recency_cluster                                                              \n",
       "0               249230.0000000000 27.8533683746 2.5207247548 24.0000000000   \n",
       "1               243425.0000000000 19.4269323200 2.2901137611 16.0000000000   \n",
       "2               282279.0000000000 11.3879176276 2.3047583530  8.0000000000   \n",
       "3               319297.0000000000  3.7691741545 2.0050310618  1.0000000000   \n",
       "\n",
       "                          25%           50%           75%           max  \n",
       "recency_cluster                                                          \n",
       "0               26.0000000000 28.0000000000 30.0000000000 32.0000000000  \n",
       "1               17.0000000000 19.0000000000 21.0000000000 23.0000000000  \n",
       "2                9.0000000000 11.0000000000 13.0000000000 15.0000000000  \n",
       "3                2.0000000000  4.0000000000  5.0000000000  7.0000000000  "
      ]
     },
     "execution_count": 31,
     "metadata": {},
     "output_type": "execute_result"
    }
   ],
   "source": [
    "kmeans = KMeans(n_clusters=4)\n",
    "kmeans.fit(rfm[['recency']])\n",
    "rfm['recency_cluster'] = kmeans.predict(rfm[['recency']])\n",
    "\n",
    "#function for ordering cluster numbers\n",
    "def order_cluster(cluster_field_name, target_field_name,df,ascending):\n",
    "    new_cluster_field_name = 'new_' + cluster_field_name\n",
    "    df_new = df.groupby(cluster_field_name)[target_field_name].mean().reset_index()\n",
    "    df_new = df_new.sort_values(by=target_field_name,ascending=ascending).reset_index(drop=True)\n",
    "    df_new['index'] = df_new.index\n",
    "    df_final = pd.merge(df,df_new[[cluster_field_name,'index']], on=cluster_field_name)\n",
    "    df_final = df_final.drop([cluster_field_name],axis=1)\n",
    "    df_final = df_final.rename(columns={\"index\":cluster_field_name})\n",
    "    return df_final\n",
    "\n",
    "rfm = order_cluster('recency_cluster', 'recency', rfm, False)\n",
    "rfm.groupby('recency_cluster')['recency'].describe()"
   ]
  },
  {
   "cell_type": "code",
   "execution_count": 32,
   "id": "31b019e5",
   "metadata": {},
   "outputs": [
    {
     "data": {
      "image/png": "[encoded data removed]",
      "text/plain": [
       "<Figure size 432x288 with 1 Axes>"
      ]
     },
     "metadata": {
      "needs_background": "light"
     },
     "output_type": "display_data"
    }
   ],
   "source": [
    "sse={}\n",
    "rfm_frequency = rfm[['frequency']]\n",
    "for k in range(1, 10):\n",
    "    kmeans = KMeans(n_clusters=k, max_iter=1000).fit(rfm_frequency)\n",
    "    rfm_recency[\"clusters\"] = kmeans.labels_\n",
    "    sse[k] = kmeans.inertia_ \n",
    "plt.figure()\n",
    "plt.plot(list(sse.keys()), list(sse.values()))\n",
    "plt.xlabel(\"Number of cluster\")\n",
    "plt.show()"
   ]
  },
  {
   "cell_type": "code",
   "execution_count": 33,
   "id": "75fcd11d",
   "metadata": {},
   "outputs": [
    {
     "data": {
      "text/html": [
       "<div>\n",
       "<style scoped>\n",
       "    .dataframe tbody tr th:only-of-type {\n",
       "        vertical-align: middle;\n",
       "    }\n",
       "\n",
       "    .dataframe tbody tr th {\n",
       "        vertical-align: top;\n",
       "    }\n",
       "\n",
       "    .dataframe thead th {\n",
       "        text-align: right;\n",
       "    }\n",
       "</style>\n",
       "<table border=\"1\" class=\"dataframe\">\n",
       "  <thead>\n",
       "    <tr style=\"text-align: right;\">\n",
       "      <th></th>\n",
       "      <th>count</th>\n",
       "      <th>mean</th>\n",
       "      <th>std</th>\n",
       "      <th>min</th>\n",
       "      <th>25%</th>\n",
       "      <th>50%</th>\n",
       "      <th>75%</th>\n",
       "      <th>max</th>\n",
       "    </tr>\n",
       "    <tr>\n",
       "      <th>frequency_cluster</th>\n",
       "      <th></th>\n",
       "      <th></th>\n",
       "      <th></th>\n",
       "      <th></th>\n",
       "      <th></th>\n",
       "      <th></th>\n",
       "      <th></th>\n",
       "      <th></th>\n",
       "    </tr>\n",
       "  </thead>\n",
       "  <tbody>\n",
       "    <tr>\n",
       "      <th>0</th>\n",
       "      <td>736693.0000000000</td>\n",
       "      <td>1.0000000000</td>\n",
       "      <td>0.0000000000</td>\n",
       "      <td>1.0000000000</td>\n",
       "      <td>1.0000000000</td>\n",
       "      <td>1.0000000000</td>\n",
       "      <td>1.0000000000</td>\n",
       "      <td>1.0000000000</td>\n",
       "    </tr>\n",
       "    <tr>\n",
       "      <th>1</th>\n",
       "      <td>267852.0000000000</td>\n",
       "      <td>2.2771866553</td>\n",
       "      <td>0.4476102785</td>\n",
       "      <td>2.0000000000</td>\n",
       "      <td>2.0000000000</td>\n",
       "      <td>2.0000000000</td>\n",
       "      <td>3.0000000000</td>\n",
       "      <td>3.0000000000</td>\n",
       "    </tr>\n",
       "    <tr>\n",
       "      <th>2</th>\n",
       "      <td>71542.0000000000</td>\n",
       "      <td>4.6084817310</td>\n",
       "      <td>0.6634886014</td>\n",
       "      <td>4.0000000000</td>\n",
       "      <td>4.0000000000</td>\n",
       "      <td>5.0000000000</td>\n",
       "      <td>5.0000000000</td>\n",
       "      <td>6.0000000000</td>\n",
       "    </tr>\n",
       "    <tr>\n",
       "      <th>3</th>\n",
       "      <td>18144.0000000000</td>\n",
       "      <td>8.6130401235</td>\n",
       "      <td>1.7505230233</td>\n",
       "      <td>7.0000000000</td>\n",
       "      <td>7.0000000000</td>\n",
       "      <td>8.0000000000</td>\n",
       "      <td>9.0000000000</td>\n",
       "      <td>12.0000000000</td>\n",
       "    </tr>\n",
       "  </tbody>\n",
       "</table>\n",
       "</div>"
      ],
      "text/plain": [
       "                              count         mean          std          min  \\\n",
       "frequency_cluster                                                            \n",
       "0                 736693.0000000000 1.0000000000 0.0000000000 1.0000000000   \n",
       "1                 267852.0000000000 2.2771866553 0.4476102785 2.0000000000   \n",
       "2                  71542.0000000000 4.6084817310 0.6634886014 4.0000000000   \n",
       "3                  18144.0000000000 8.6130401235 1.7505230233 7.0000000000   \n",
       "\n",
       "                           25%          50%          75%           max  \n",
       "frequency_cluster                                                       \n",
       "0                 1.0000000000 1.0000000000 1.0000000000  1.0000000000  \n",
       "1                 2.0000000000 2.0000000000 3.0000000000  3.0000000000  \n",
       "2                 4.0000000000 5.0000000000 5.0000000000  6.0000000000  \n",
       "3                 7.0000000000 8.0000000000 9.0000000000 12.0000000000  "
      ]
     },
     "execution_count": 33,
     "metadata": {},
     "output_type": "execute_result"
    }
   ],
   "source": [
    "kmeans = KMeans(n_clusters=4)\n",
    "kmeans.fit(rfm[['frequency']])\n",
    "rfm['frequency_cluster'] = kmeans.predict(rfm[['frequency']])\n",
    "\n",
    "## order the frequency cluster\n",
    "rfm = order_cluster('frequency_cluster', 'frequency',rfm,True)\n",
    "rfm.groupby('frequency_cluster')['frequency'].describe()"
   ]
  },
  {
   "cell_type": "code",
   "execution_count": 34,
   "id": "c8e6d752",
   "metadata": {},
   "outputs": [
    {
     "data": {
      "image/png": "[encoded data removed]",
      "text/plain": [
       "<Figure size 432x288 with 1 Axes>"
      ]
     },
     "metadata": {
      "needs_background": "light"
     },
     "output_type": "display_data"
    }
   ],
   "source": [
    "sse={}\n",
    "rfm_monetary = rfm[['monetary_value']]\n",
    "for k in range(1, 10):\n",
    "    kmeans = KMeans(n_clusters=k, max_iter=1000).fit(rfm_monetary)\n",
    "    rfm_recency[\"clusters\"] = kmeans.labels_\n",
    "    sse[k] = kmeans.inertia_ \n",
    "plt.figure()\n",
    "plt.plot(list(sse.keys()), list(sse.values()))\n",
    "plt.xlabel(\"Number of cluster\")\n",
    "plt.show()"
   ]
  },
  {
   "cell_type": "code",
   "execution_count": 35,
   "id": "d8a7efb5",
   "metadata": {},
   "outputs": [
    {
     "data": {
      "text/html": [
       "<div>\n",
       "<style scoped>\n",
       "    .dataframe tbody tr th:only-of-type {\n",
       "        vertical-align: middle;\n",
       "    }\n",
       "\n",
       "    .dataframe tbody tr th {\n",
       "        vertical-align: top;\n",
       "    }\n",
       "\n",
       "    .dataframe thead th {\n",
       "        text-align: right;\n",
       "    }\n",
       "</style>\n",
       "<table border=\"1\" class=\"dataframe\">\n",
       "  <thead>\n",
       "    <tr style=\"text-align: right;\">\n",
       "      <th></th>\n",
       "      <th>count</th>\n",
       "      <th>mean</th>\n",
       "      <th>std</th>\n",
       "      <th>min</th>\n",
       "      <th>25%</th>\n",
       "      <th>50%</th>\n",
       "      <th>75%</th>\n",
       "      <th>max</th>\n",
       "    </tr>\n",
       "    <tr>\n",
       "      <th>monetary_cluster</th>\n",
       "      <th></th>\n",
       "      <th></th>\n",
       "      <th></th>\n",
       "      <th></th>\n",
       "      <th></th>\n",
       "      <th></th>\n",
       "      <th></th>\n",
       "      <th></th>\n",
       "    </tr>\n",
       "  </thead>\n",
       "  <tbody>\n",
       "    <tr>\n",
       "      <th>0</th>\n",
       "      <td>617321.0000000000</td>\n",
       "      <td>34011.0016587804</td>\n",
       "      <td>18519.9875527224</td>\n",
       "      <td>0.0000000000</td>\n",
       "      <td>20500.0000000000</td>\n",
       "      <td>32000.0000000000</td>\n",
       "      <td>50000.0000000000</td>\n",
       "      <td>71566.0000000000</td>\n",
       "    </tr>\n",
       "    <tr>\n",
       "      <th>1</th>\n",
       "      <td>311311.0000000000</td>\n",
       "      <td>109284.9988789346</td>\n",
       "      <td>27051.9029077675</td>\n",
       "      <td>71577.0000000000</td>\n",
       "      <td>87000.0000000000</td>\n",
       "      <td>103410.0000000000</td>\n",
       "      <td>131000.0000000000</td>\n",
       "      <td>173212.0000000000</td>\n",
       "    </tr>\n",
       "    <tr>\n",
       "      <th>2</th>\n",
       "      <td>111993.0000000000</td>\n",
       "      <td>237297.2452296126</td>\n",
       "      <td>44580.6280722269</td>\n",
       "      <td>173230.0000000000</td>\n",
       "      <td>201500.0000000000</td>\n",
       "      <td>220400.0000000000</td>\n",
       "      <td>270800.0000000000</td>\n",
       "      <td>337200.0000000000</td>\n",
       "    </tr>\n",
       "    <tr>\n",
       "      <th>3</th>\n",
       "      <td>53606.0000000000</td>\n",
       "      <td>437203.3100772302</td>\n",
       "      <td>55694.9664029583</td>\n",
       "      <td>337250.0000000000</td>\n",
       "      <td>391500.0000000000</td>\n",
       "      <td>452500.0000000000</td>\n",
       "      <td>460000.0000000000</td>\n",
       "      <td>525000.0000000000</td>\n",
       "    </tr>\n",
       "  </tbody>\n",
       "</table>\n",
       "</div>"
      ],
      "text/plain": [
       "                             count              mean              std  \\\n",
       "monetary_cluster                                                        \n",
       "0                617321.0000000000  34011.0016587804 18519.9875527224   \n",
       "1                311311.0000000000 109284.9988789346 27051.9029077675   \n",
       "2                111993.0000000000 237297.2452296126 44580.6280722269   \n",
       "3                 53606.0000000000 437203.3100772302 55694.9664029583   \n",
       "\n",
       "                               min               25%               50%  \\\n",
       "monetary_cluster                                                         \n",
       "0                     0.0000000000  20500.0000000000  32000.0000000000   \n",
       "1                 71577.0000000000  87000.0000000000 103410.0000000000   \n",
       "2                173230.0000000000 201500.0000000000 220400.0000000000   \n",
       "3                337250.0000000000 391500.0000000000 452500.0000000000   \n",
       "\n",
       "                               75%               max  \n",
       "monetary_cluster                                      \n",
       "0                 50000.0000000000  71566.0000000000  \n",
       "1                131000.0000000000 173212.0000000000  \n",
       "2                270800.0000000000 337200.0000000000  \n",
       "3                460000.0000000000 525000.0000000000  "
      ]
     },
     "execution_count": 35,
     "metadata": {},
     "output_type": "execute_result"
    }
   ],
   "source": [
    "kmeans = KMeans(n_clusters=4)\n",
    "kmeans.fit(rfm[['monetary_value']])\n",
    "rfm['monetary_cluster'] = kmeans.predict(rfm[['monetary_value']])\n",
    "\n",
    "## order the frequency cluster\n",
    "rfm = order_cluster('monetary_cluster', 'monetary_value',rfm,True)\n",
    "rfm.groupby('monetary_cluster')['monetary_value'].describe()"
   ]
  },
  {
   "cell_type": "code",
   "execution_count": 36,
   "id": "421e42fa",
   "metadata": {},
   "outputs": [
    {
     "data": {
      "text/html": [
       "<div>\n",
       "<style scoped>\n",
       "    .dataframe tbody tr th:only-of-type {\n",
       "        vertical-align: middle;\n",
       "    }\n",
       "\n",
       "    .dataframe tbody tr th {\n",
       "        vertical-align: top;\n",
       "    }\n",
       "\n",
       "    .dataframe thead tr th {\n",
       "        text-align: left;\n",
       "    }\n",
       "</style>\n",
       "<table border=\"1\" class=\"dataframe\">\n",
       "  <thead>\n",
       "    <tr>\n",
       "      <th></th>\n",
       "      <th>rfm_score</th>\n",
       "      <th>recency</th>\n",
       "      <th>frequency</th>\n",
       "      <th colspan=\"2\" halign=\"left\">monetary_value</th>\n",
       "      <th>%</th>\n",
       "    </tr>\n",
       "    <tr>\n",
       "      <th></th>\n",
       "      <th></th>\n",
       "      <th>mean</th>\n",
       "      <th>mean</th>\n",
       "      <th>mean</th>\n",
       "      <th>count</th>\n",
       "      <th></th>\n",
       "    </tr>\n",
       "  </thead>\n",
       "  <tbody>\n",
       "    <tr>\n",
       "      <th>0</th>\n",
       "      <td>0</td>\n",
       "      <td>27.9000000000</td>\n",
       "      <td>1.0000000000</td>\n",
       "      <td>32653.1000000000</td>\n",
       "      <td>140878</td>\n",
       "      <td>12.8746123990</td>\n",
       "    </tr>\n",
       "    <tr>\n",
       "      <th>1</th>\n",
       "      <td>1</td>\n",
       "      <td>22.4000000000</td>\n",
       "      <td>1.1000000000</td>\n",
       "      <td>51934.6000000000</td>\n",
       "      <td>189611</td>\n",
       "      <td>17.3282423912</td>\n",
       "    </tr>\n",
       "    <tr>\n",
       "      <th>2</th>\n",
       "      <td>2</td>\n",
       "      <td>15.7000000000</td>\n",
       "      <td>1.2000000000</td>\n",
       "      <td>61070.6000000000</td>\n",
       "      <td>214891</td>\n",
       "      <td>19.6385406738</td>\n",
       "    </tr>\n",
       "    <tr>\n",
       "      <th>3</th>\n",
       "      <td>3</td>\n",
       "      <td>9.4000000000</td>\n",
       "      <td>1.3000000000</td>\n",
       "      <td>72780.5000000000</td>\n",
       "      <td>236581</td>\n",
       "      <td>21.6207546670</td>\n",
       "    </tr>\n",
       "    <tr>\n",
       "      <th>4</th>\n",
       "      <td>4</td>\n",
       "      <td>8.9000000000</td>\n",
       "      <td>1.9000000000</td>\n",
       "      <td>125392.6000000000</td>\n",
       "      <td>134949</td>\n",
       "      <td>12.3327706855</td>\n",
       "    </tr>\n",
       "    <tr>\n",
       "      <th>5</th>\n",
       "      <td>5</td>\n",
       "      <td>7.6000000000</td>\n",
       "      <td>2.6000000000</td>\n",
       "      <td>179734.7000000000</td>\n",
       "      <td>81759</td>\n",
       "      <td>7.4718226773</td>\n",
       "    </tr>\n",
       "    <tr>\n",
       "      <th>6</th>\n",
       "      <td>6</td>\n",
       "      <td>6.4000000000</td>\n",
       "      <td>3.4000000000</td>\n",
       "      <td>249679.3000000000</td>\n",
       "      <td>47678</td>\n",
       "      <td>4.3572152498</td>\n",
       "    </tr>\n",
       "    <tr>\n",
       "      <th>7</th>\n",
       "      <td>7</td>\n",
       "      <td>5.0000000000</td>\n",
       "      <td>4.5000000000</td>\n",
       "      <td>311146.3000000000</td>\n",
       "      <td>27567</td>\n",
       "      <td>2.5193035109</td>\n",
       "    </tr>\n",
       "    <tr>\n",
       "      <th>8</th>\n",
       "      <td>8</td>\n",
       "      <td>4.6000000000</td>\n",
       "      <td>6.4000000000</td>\n",
       "      <td>390828.2000000000</td>\n",
       "      <td>12260</td>\n",
       "      <td>1.1204215563</td>\n",
       "    </tr>\n",
       "    <tr>\n",
       "      <th>9</th>\n",
       "      <td>9</td>\n",
       "      <td>2.9000000000</td>\n",
       "      <td>9.4000000000</td>\n",
       "      <td>415853.1000000000</td>\n",
       "      <td>8057</td>\n",
       "      <td>0.7363161892</td>\n",
       "    </tr>\n",
       "  </tbody>\n",
       "</table>\n",
       "</div>"
      ],
      "text/plain": [
       "  rfm_score       recency    frequency    monetary_value                     %\n",
       "                     mean         mean              mean   count              \n",
       "0         0 27.9000000000 1.0000000000  32653.1000000000  140878 12.8746123990\n",
       "1         1 22.4000000000 1.1000000000  51934.6000000000  189611 17.3282423912\n",
       "2         2 15.7000000000 1.2000000000  61070.6000000000  214891 19.6385406738\n",
       "3         3  9.4000000000 1.3000000000  72780.5000000000  236581 21.6207546670\n",
       "4         4  8.9000000000 1.9000000000 125392.6000000000  134949 12.3327706855\n",
       "5         5  7.6000000000 2.6000000000 179734.7000000000   81759  7.4718226773\n",
       "6         6  6.4000000000 3.4000000000 249679.3000000000   47678  4.3572152498\n",
       "7         7  5.0000000000 4.5000000000 311146.3000000000   27567  2.5193035109\n",
       "8         8  4.6000000000 6.4000000000 390828.2000000000   12260  1.1204215563\n",
       "9         9  2.9000000000 9.4000000000 415853.1000000000    8057  0.7363161892"
      ]
     },
     "execution_count": 36,
     "metadata": {},
     "output_type": "execute_result"
    }
   ],
   "source": [
    "# Calculate average values for each rfm score, and return a size of each segment \n",
    "rfm['rfm_score'] = rfm['recency_cluster'] + rfm['frequency_cluster'] + rfm['monetary_cluster']\n",
    "rfm_agg = rfm.groupby('rfm_score').agg({\n",
    "    'recency': 'mean',\n",
    "    'frequency': 'mean',\n",
    "    'monetary_value': ['mean', 'count']\n",
    "}).round(1).reset_index()\n",
    "\n",
    "rfm_agg['%'] = (rfm_agg[('monetary_value','count')] / rfm_agg[('monetary_value','count')].sum()) * 100\n",
    "rfm_agg"
   ]
  },
  {
   "cell_type": "code",
   "execution_count": 37,
   "id": "ab88ece1",
   "metadata": {},
   "outputs": [],
   "source": [
    "rfm['cohort'] = 'Green'\n",
    "rfm.loc[rfm['rfm_score']>2,'cohort'] = 'Bronze' \n",
    "rfm.loc[rfm['rfm_score']>4,'cohort'] = 'Silver'\n",
    "rfm.loc[rfm['rfm_score']>6,'cohort'] = 'Gold'\n",
    "rfm.loc[rfm['rfm_score']>8,'cohort'] = 'Platinum'"
   ]
  },
  {
   "cell_type": "code",
   "execution_count": 38,
   "id": "e30336ab",
   "metadata": {},
   "outputs": [
    {
     "data": {
      "image/png": "[encoded data removed]",
      "text/plain": [
       "<Figure size 432x288 with 2 Axes>"
      ]
     },
     "metadata": {
      "needs_background": "light"
     },
     "output_type": "display_data"
    }
   ],
   "source": [
    "plt.figure(figsize = (6,4))\n",
    "plt.title('RFM Cohort')\n",
    "plt.ylabel('Frequency [%]')\n",
    "\n",
    "ax = (rfm.cohort.value_counts()/len(rfm)*100).plot(kind = \"bar\", rot = 0)\n",
    "ax.set_yticks(np.arange(0, 110, 10))\n",
    "\n",
    "ax2 = ax.twinx()\n",
    "ax2.set_yticks(np.arange(0, 110, 10)*len(df)/100)\n",
    "\n",
    "for p in ax.patches:\n",
    "    ax.annotate('{:.2f}%'.format(p.get_height()), (p.get_x()+0.15, p.get_height()+1))"
   ]
  },
  {
   "cell_type": "code",
   "execution_count": 39,
   "id": "81b1d6f0",
   "metadata": {},
   "outputs": [
    {
     "data": {
      "text/plain": [
       "<seaborn.axisgrid.FacetGrid at 0x7ff19bf5c1c0>"
      ]
     },
     "execution_count": 39,
     "metadata": {},
     "output_type": "execute_result"
    },
    {
     "data": {
      "image/png": "[encoded data removed]",
      "text/plain": [
       "<Figure size 1008x504 with 1 Axes>"
      ]
     },
     "metadata": {
      "needs_background": "light"
     },
     "output_type": "display_data"
    }
   ],
   "source": [
    "## cohort and recency & frequency\n",
    "## actual_gmv & service_type \n",
    "grouped = rfm.loc[:,['frequency', 'cohort']].groupby(['cohort']).mean().sort_values(by='frequency')\n",
    "def boxplot(x,y,**kwargs):\n",
    "            sns.boxplot(x=x,y=y,order=grouped.index)\n",
    "            x = plt.xticks(rotation=90)\n",
    "\n",
    "cat = ['cohort']\n",
    "p = pd.melt(rfm, id_vars='frequency', value_vars=cat)\n",
    "g = sns.FacetGrid (p, col='variable', col_wrap=2, sharex=False, sharey=False, size=7)\n",
    "g = g.map(boxplot, 'value','frequency')\n",
    "g"
   ]
  },
  {
   "cell_type": "code",
   "execution_count": 40,
   "id": "0abfb26e",
   "metadata": {},
   "outputs": [
    {
     "data": {
      "text/plain": [
       "<seaborn.axisgrid.FacetGrid at 0x7ff19bf5c2b0>"
      ]
     },
     "execution_count": 40,
     "metadata": {},
     "output_type": "execute_result"
    },
    {
     "data": {
      "image/png": "[encoded data removed]",
      "text/plain": [
       "<Figure size 1008x504 with 1 Axes>"
      ]
     },
     "metadata": {
      "needs_background": "light"
     },
     "output_type": "display_data"
    }
   ],
   "source": [
    "grouped = rfm.loc[:,['recency', 'cohort']].groupby(['cohort']).mean().sort_values(by='recency')\n",
    "def boxplot(x,y,**kwargs):\n",
    "            sns.boxplot(x=x,y=y,order=grouped.index)\n",
    "            x = plt.xticks(rotation=90)\n",
    "\n",
    "cat = ['cohort']\n",
    "p = pd.melt(rfm, id_vars='recency', value_vars=cat)\n",
    "g = sns.FacetGrid (p, col='variable', col_wrap=2, sharex=False, sharey=False, size=7)\n",
    "g = g.map(boxplot, 'value','recency')\n",
    "g"
   ]
  },
  {
   "cell_type": "code",
   "execution_count": 41,
   "id": "be71a136",
   "metadata": {},
   "outputs": [
    {
     "data": {
      "text/plain": [
       "<seaborn.axisgrid.FacetGrid at 0x7ff2af074b20>"
      ]
     },
     "execution_count": 41,
     "metadata": {},
     "output_type": "execute_result"
    },
    {
     "data": {
      "image/png": "[encoded data removed]",
      "text/plain": [
       "<Figure size 1008x504 with 1 Axes>"
      ]
     },
     "metadata": {
      "needs_background": "light"
     },
     "output_type": "display_data"
    }
   ],
   "source": [
    "grouped = rfm.loc[:,['monetary_value', 'cohort']].groupby(['cohort']).mean().sort_values(by='monetary_value')\n",
    "def boxplot(x,y,**kwargs):\n",
    "            sns.boxplot(x=x,y=y,order=grouped.index)\n",
    "            x = plt.xticks(rotation=90)\n",
    "\n",
    "cat = ['cohort']\n",
    "p = pd.melt(rfm, id_vars='monetary_value', value_vars=cat)\n",
    "g = sns.FacetGrid (p, col='variable', col_wrap=2, sharex=False, sharey=False, size=7)\n",
    "g = g.map(boxplot, 'value','monetary_value')\n",
    "g"
   ]
  },
  {
   "cell_type": "code",
   "execution_count": 42,
   "id": "443beffb",
   "metadata": {},
   "outputs": [],
   "source": [
    "## Marketing should prioritize the gold and platinum cohorts"
   ]
  },
  {
   "cell_type": "markdown",
   "id": "be61b1af",
   "metadata": {},
   "source": [
    "### 3. Hypothesize how Gojek might leverage the insights gained from the data to generate higher transaction volumes."
   ]
  },
  {
   "cell_type": "code",
   "execution_count": 43,
   "id": "41d9d2a2",
   "metadata": {},
   "outputs": [],
   "source": [
    "## To generate higher transaction volumes, \n",
    "## marketing team should by giving rewards to the above cohorts which would bring more conversions than others"
   ]
  },
  {
   "cell_type": "code",
   "execution_count": 44,
   "id": "ced8ed23",
   "metadata": {},
   "outputs": [
    {
     "data": {
      "text/html": [
       "<div>\n",
       "<style scoped>\n",
       "    .dataframe tbody tr th:only-of-type {\n",
       "        vertical-align: middle;\n",
       "    }\n",
       "\n",
       "    .dataframe tbody tr th {\n",
       "        vertical-align: top;\n",
       "    }\n",
       "\n",
       "    .dataframe thead tr th {\n",
       "        text-align: left;\n",
       "    }\n",
       "</style>\n",
       "<table border=\"1\" class=\"dataframe\">\n",
       "  <thead>\n",
       "    <tr>\n",
       "      <th></th>\n",
       "      <th>rfm_score</th>\n",
       "      <th colspan=\"2\" halign=\"left\">monetary_value</th>\n",
       "      <th>monetary_value/count</th>\n",
       "      <th>monetary_value/count above</th>\n",
       "    </tr>\n",
       "    <tr>\n",
       "      <th></th>\n",
       "      <th></th>\n",
       "      <th>mean</th>\n",
       "      <th>count</th>\n",
       "      <th></th>\n",
       "      <th></th>\n",
       "    </tr>\n",
       "  </thead>\n",
       "  <tbody>\n",
       "    <tr>\n",
       "      <th>0</th>\n",
       "      <td>0</td>\n",
       "      <td>32653.1000000000</td>\n",
       "      <td>140878</td>\n",
       "      <td>23.1782819177</td>\n",
       "      <td>172.8221006351</td>\n",
       "    </tr>\n",
       "    <tr>\n",
       "      <th>1</th>\n",
       "      <td>1</td>\n",
       "      <td>51934.6000000000</td>\n",
       "      <td>189611</td>\n",
       "      <td>27.3900775799</td>\n",
       "      <td>194.9351289606</td>\n",
       "    </tr>\n",
       "    <tr>\n",
       "      <th>2</th>\n",
       "      <td>2</td>\n",
       "      <td>61070.6000000000</td>\n",
       "      <td>214891</td>\n",
       "      <td>28.4193381761</td>\n",
       "      <td>236.5308310922</td>\n",
       "    </tr>\n",
       "    <tr>\n",
       "      <th>3</th>\n",
       "      <td>3</td>\n",
       "      <td>72780.5000000000</td>\n",
       "      <td>236581</td>\n",
       "      <td>30.7634594494</td>\n",
       "      <td>318.0124842626</td>\n",
       "    </tr>\n",
       "    <tr>\n",
       "      <th>4</th>\n",
       "      <td>4</td>\n",
       "      <td>125392.6000000000</td>\n",
       "      <td>134949</td>\n",
       "      <td>92.9185099556</td>\n",
       "      <td>535.6371729593</td>\n",
       "    </tr>\n",
       "    <tr>\n",
       "      <th>5</th>\n",
       "      <td>5</td>\n",
       "      <td>179734.7000000000</td>\n",
       "      <td>81759</td>\n",
       "      <td>219.8347582529</td>\n",
       "      <td>872.5653475900</td>\n",
       "    </tr>\n",
       "    <tr>\n",
       "      <th>6</th>\n",
       "      <td>6</td>\n",
       "      <td>249679.3000000000</td>\n",
       "      <td>47678</td>\n",
       "      <td>523.6782163681</td>\n",
       "      <td>1431.0153617547</td>\n",
       "    </tr>\n",
       "    <tr>\n",
       "      <th>7</th>\n",
       "      <td>7</td>\n",
       "      <td>311146.3000000000</td>\n",
       "      <td>27567</td>\n",
       "      <td>1128.6911887402</td>\n",
       "      <td>2334.4490852895</td>\n",
       "    </tr>\n",
       "    <tr>\n",
       "      <th>8</th>\n",
       "      <td>8</td>\n",
       "      <td>390828.2000000000</td>\n",
       "      <td>12260</td>\n",
       "      <td>3187.8319738989</td>\n",
       "      <td>3970.4744794999</td>\n",
       "    </tr>\n",
       "    <tr>\n",
       "      <th>9</th>\n",
       "      <td>9</td>\n",
       "      <td>415853.1000000000</td>\n",
       "      <td>8057</td>\n",
       "      <td>5161.3888544123</td>\n",
       "      <td>5161.3888544123</td>\n",
       "    </tr>\n",
       "  </tbody>\n",
       "</table>\n",
       "</div>"
      ],
      "text/plain": [
       "  rfm_score    monetary_value         monetary_value/count  \\\n",
       "                         mean   count                        \n",
       "0         0  32653.1000000000  140878        23.1782819177   \n",
       "1         1  51934.6000000000  189611        27.3900775799   \n",
       "2         2  61070.6000000000  214891        28.4193381761   \n",
       "3         3  72780.5000000000  236581        30.7634594494   \n",
       "4         4 125392.6000000000  134949        92.9185099556   \n",
       "5         5 179734.7000000000   81759       219.8347582529   \n",
       "6         6 249679.3000000000   47678       523.6782163681   \n",
       "7         7 311146.3000000000   27567      1128.6911887402   \n",
       "8         8 390828.2000000000   12260      3187.8319738989   \n",
       "9         9 415853.1000000000    8057      5161.3888544123   \n",
       "\n",
       "  monetary_value/count above  \n",
       "                              \n",
       "0             172.8221006351  \n",
       "1             194.9351289606  \n",
       "2             236.5308310922  \n",
       "3             318.0124842626  \n",
       "4             535.6371729593  \n",
       "5             872.5653475900  \n",
       "6            1431.0153617547  \n",
       "7            2334.4490852895  \n",
       "8            3970.4744794999  \n",
       "9            5161.3888544123  "
      ]
     },
     "execution_count": 44,
     "metadata": {},
     "output_type": "execute_result"
    }
   ],
   "source": [
    "rfm_agg = rfm.groupby('rfm_score').agg({'monetary_value': ['mean', 'count']}).round(1).reset_index()\n",
    "rfm_agg['monetary_value/count'] = (rfm_agg[('monetary_value','mean')] / rfm_agg[('monetary_value','count')]) * 100\n",
    "rfm_agg['monetary_value/count above'] = (rfm_agg[('monetary_value','mean')][::-1].cumsum() / rfm_agg[('monetary_value','count')][::-1].cumsum()) * 100\n",
    "rfm_agg"
   ]
  },
  {
   "cell_type": "code",
   "execution_count": 45,
   "id": "7cd279ac",
   "metadata": {},
   "outputs": [
    {
     "data": {
      "text/plain": [
       "<AxesSubplot:xlabel='rfm_score'>"
      ]
     },
     "execution_count": 45,
     "metadata": {},
     "output_type": "execute_result"
    },
    {
     "data": {
      "image/png": "[encoded data removed]",
      "text/plain": [
       "<Figure size 720x288 with 2 Axes>"
      ]
     },
     "metadata": {
      "needs_background": "light"
     },
     "output_type": "display_data"
    }
   ],
   "source": [
    "## monetary_value/count if operated above this threshold\n",
    "db = rfm_agg\n",
    "db['count'] = db[('monetary_value','count')]\n",
    "fig, ax = plt.subplots(figsize=(10,4))\n",
    "ax2 = ax.twinx()\n",
    "db.plot(x='rfm_score', y='monetary_value/count', ax=ax2, color = 'red')\n",
    "db.plot(x='rfm_score', y='monetary_value/count above', ax=ax2, color = 'green')\n",
    "db.plot(x='rfm_score', y='count', ax=ax, kind='bar')"
   ]
  },
  {
   "cell_type": "code",
   "execution_count": null,
   "id": "c25ef73a",
   "metadata": {},
   "outputs": [],
   "source": []
  }
 ],
 "metadata": {
  "kernelspec": {
   "display_name": "Python 3 (ipykernel)",
   "language": "python",
   "name": "python3"
  },
  "language_info": {
   "codemirror_mode": {
    "name": "ipython",
    "version": 3
   },
   "file_extension": ".py",
   "mimetype": "text/x-python",
   "name": "python",
   "nbconvert_exporter": "python",
   "pygments_lexer": "ipython3",
   "version": "3.9.5"
  }
 },
 "nbformat": 4,
 "nbformat_minor": 5
}
